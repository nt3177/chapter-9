{
 "cells": [
  {
   "cell_type": "code",
   "execution_count": 17,
   "metadata": {},
   "outputs": [
    {
     "name": "stdout",
     "output_type": "stream",
     "text": [
      "My dog's name is Remi.\n",
      "My dog is 12 years old.\n",
      "Remi is now sitting.\n",
      "\n",
      "Your dog's name is Blu.\n",
      "Your dog is 3 years old.\n",
      "Blu is now sitting.\n"
     ]
    }
   ],
   "source": [
    "class Dog():\n",
    "    \"\"\"A simple attempt to model a dog.\"\"\"\n",
    "    def __init__(self, name, age):\n",
    "        \"\"\"Initialize name and age attributes.\"\"\"\n",
    "        self.name = name\n",
    "        self.age = age\n",
    "    def sit(self):\n",
    "        \"\"\"Simulate a dog sitting in response to a command.\"\"\"\n",
    "        print(self.name.title() + \" is now sitting.\")\n",
    "    def roll_over(self):\n",
    "        \"\"\"Simulate rolling over in response to a command.\"\"\"\n",
    "        print(self.name.title() + \" rolled over!\")\n",
    "    \n",
    "    print(\"My dog's name is \" + my_dog.name.title() + \".\")\n",
    "    print(\"My dog is \" + str(my_dog.age) + \" years old.\")\n",
    "    my_dog.sit()\n",
    "    print(\"\\nYour dog's name is \" + your_dog.name.title() + \".\")\n",
    "    print(\"Your dog is \" + str(your_dog.age) + \" years old.\")\n",
    "    your_dog.sit()"
   ]
  },
  {
   "cell_type": "code",
   "execution_count": 14,
   "metadata": {
    "scrolled": true
   },
   "outputs": [],
   "source": [
    "my_dog = Dog('Remi', 12)\n",
    "your_dog = Dog('Blu',3)"
   ]
  },
  {
   "cell_type": "code",
   "execution_count": 15,
   "metadata": {
    "scrolled": true
   },
   "outputs": [
    {
     "name": "stdout",
     "output_type": "stream",
     "text": [
      "Remi is now sitting.\n"
     ]
    }
   ],
   "source": [
    "my_dog.sit()"
   ]
  },
  {
   "cell_type": "code",
   "execution_count": 16,
   "metadata": {},
   "outputs": [
    {
     "name": "stdout",
     "output_type": "stream",
     "text": [
      "Blu is now sitting.\n"
     ]
    }
   ],
   "source": [
    "your_dog.sit()"
   ]
  },
  {
   "cell_type": "code",
   "execution_count": null,
   "metadata": {},
   "outputs": [],
   "source": []
  }
 ],
 "metadata": {
  "kernelspec": {
   "display_name": "Python 3",
   "language": "python",
   "name": "python3"
  },
  "language_info": {
   "codemirror_mode": {
    "name": "ipython",
    "version": 3
   },
   "file_extension": ".py",
   "mimetype": "text/x-python",
   "name": "python",
   "nbconvert_exporter": "python",
   "pygments_lexer": "ipython3",
   "version": "3.7.4"
  }
 },
 "nbformat": 4,
 "nbformat_minor": 2
}
