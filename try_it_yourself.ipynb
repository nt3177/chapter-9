{
 "cells": [
  {
   "cell_type": "code",
   "execution_count": 24,
   "metadata": {},
   "outputs": [],
   "source": [
    "class Restaurant():\n",
    "    def __init__(self, name, ty):\n",
    "        self.name = name\n",
    "        self.ty = ty\n",
    "    \n",
    "    def describe(self):\n",
    "        print('the name of the restuant is ' + self.name.title() + '!')\n",
    "        print('the type of cuisine is ' + self.ty.title() + '!')\n",
    "        \n",
    "    def Open(self):\n",
    "        print(self.name.title()+\" is now open!\")"
   ]
  },
  {
   "cell_type": "code",
   "execution_count": 25,
   "metadata": {},
   "outputs": [],
   "source": [
    "my_Restaurant= Restaurant('therky','jerky')"
   ]
  },
  {
   "cell_type": "code",
   "execution_count": 12,
   "metadata": {},
   "outputs": [
    {
     "name": "stdout",
     "output_type": "stream",
     "text": [
      "the name of the restuant is Therky!\n",
      "the type of cuisine is Jerky!\n"
     ]
    }
   ],
   "source": [
    "my_Restaurant.describe()"
   ]
  },
  {
   "cell_type": "code",
   "execution_count": 14,
   "metadata": {},
   "outputs": [
    {
     "name": "stdout",
     "output_type": "stream",
     "text": [
      "Therky is now open!\n"
     ]
    }
   ],
   "source": [
    "my_Restaurant.Open()"
   ]
  },
  {
   "cell_type": "code",
   "execution_count": 22,
   "metadata": {},
   "outputs": [],
   "source": [
    "my_Restaurant= Restaurant('therky','jerky')"
   ]
  },
  {
   "cell_type": "code",
   "execution_count": 26,
   "metadata": {},
   "outputs": [
    {
     "name": "stdout",
     "output_type": "stream",
     "text": [
      "the name of the restuant is Therky!\n",
      "the type of cuisine is Jerky!\n"
     ]
    }
   ],
   "source": [
    "my_Restaurant.describe()"
   ]
  },
  {
   "cell_type": "code",
   "execution_count": 27,
   "metadata": {},
   "outputs": [
    {
     "name": "stdout",
     "output_type": "stream",
     "text": [
      "the name of the restuant is Mac Mac!\n",
      "the type of cuisine is Soup!\n"
     ]
    }
   ],
   "source": [
    "your_Restaurant.describe()"
   ]
  },
  {
   "cell_type": "code",
   "execution_count": 29,
   "metadata": {},
   "outputs": [
    {
     "name": "stdout",
     "output_type": "stream",
     "text": [
      "the name of the restuant is Dinners, Drive'Ns, And Dines!\n",
      "the type of cuisine is Burgers!\n"
     ]
    }
   ],
   "source": [
    "his_Restaurant.describe()"
   ]
  },
  {
   "cell_type": "code",
   "execution_count": 41,
   "metadata": {},
   "outputs": [],
   "source": [
    "class user():\n",
    "    def __init__(self, first, job, hobby):\n",
    "        self.first = first\n",
    "        self.job = job\n",
    "        self.hobby = hobby\n",
    "    def des(self):\n",
    "        print('Name is ' + self.first.title()+'!')\n",
    "        print('their job is '+self.job.title()+'!')\n",
    "        print('their favorite hobby is '+self.hobby.title()+'!')\n",
    "        \n",
    "    def greet(self):\n",
    "        print('Hi '+ self.first.title()+'. i see that you work at/as a '\n",
    "              + self.job.title()+'. i see that your favorite hobby is '+ self.hobby.title()+', that is my favorite hobby too!')\n",
    "         "
   ]
  },
  {
   "cell_type": "code",
   "execution_count": 33,
   "metadata": {},
   "outputs": [],
   "source": [
    "ME = user('Noah Therkelsen','Mc donalds','video games')"
   ]
  },
  {
   "cell_type": "code",
   "execution_count": 34,
   "metadata": {},
   "outputs": [
    {
     "name": "stdout",
     "output_type": "stream",
     "text": [
      "name is Noah Therkelsen!\n",
      "their job is Mc Donalds!\n",
      "their favorite hobby is Video Games!\n"
     ]
    }
   ],
   "source": [
    "ME.des()"
   ]
  },
  {
   "cell_type": "code",
   "execution_count": 42,
   "metadata": {},
   "outputs": [
    {
     "name": "stdout",
     "output_type": "stream",
     "text": [
      "Hi Noah Therkelsen. i see that you work at/as Mc Donalds. i see that your favorite hobby is Video Games, that is my favorite hobby to!\n"
     ]
    }
   ],
   "source": [
    "ME.greet()"
   ]
  },
  {
   "cell_type": "code",
   "execution_count": 43,
   "metadata": {},
   "outputs": [],
   "source": [
    "YOU= user ('p','p','p')"
   ]
  },
  {
   "cell_type": "code",
   "execution_count": 45,
   "metadata": {},
   "outputs": [
    {
     "name": "stdout",
     "output_type": "stream",
     "text": [
      "Name is P!\n",
      "their job is P!\n",
      "their favorite hobby is P!\n"
     ]
    }
   ],
   "source": [
    "YOU.des()"
   ]
  },
  {
   "cell_type": "code",
   "execution_count": null,
   "metadata": {},
   "outputs": [],
   "source": [
    "YOU."
   ]
  }
 ],
 "metadata": {
  "kernelspec": {
   "display_name": "Python 3",
   "language": "python",
   "name": "python3"
  },
  "language_info": {
   "codemirror_mode": {
    "name": "ipython",
    "version": 3
   },
   "file_extension": ".py",
   "mimetype": "text/x-python",
   "name": "python",
   "nbconvert_exporter": "python",
   "pygments_lexer": "ipython3",
   "version": "3.7.4"
  }
 },
 "nbformat": 4,
 "nbformat_minor": 2
}
