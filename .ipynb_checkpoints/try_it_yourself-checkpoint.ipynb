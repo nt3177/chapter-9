{
 "cells": [
  {
   "cell_type": "code",
   "execution_count": 1,
   "metadata": {},
   "outputs": [],
   "source": [
    "class Restaurant():\n",
    "    def __init__(self, name, ty):\n",
    "        self.name = name\n",
    "        self.ty = ty\n",
    "    \n",
    "    def describe(self):\n",
    "        print('the name of the restuant is ' + self.name.title() + '!')\n",
    "        print('the type of cuisine is ' + self.ty.title() + '!')\n",
    "        \n",
    "    def Open(self):\n",
    "        print(self.name.title()+\" is now open!\")"
   ]
  },
  {
   "cell_type": "code",
   "execution_count": 2,
   "metadata": {},
   "outputs": [],
   "source": [
    "my_Restaurant= Restaurant('therky','jerky')"
   ]
  },
  {
   "cell_type": "code",
   "execution_count": 3,
   "metadata": {},
   "outputs": [
    {
     "name": "stdout",
     "output_type": "stream",
     "text": [
      "the name of the restuant is Therky!\n",
      "the type of cuisine is Jerky!\n"
     ]
    }
   ],
   "source": [
    "my_Restaurant.describe()"
   ]
  },
  {
   "cell_type": "code",
   "execution_count": 4,
   "metadata": {},
   "outputs": [
    {
     "name": "stdout",
     "output_type": "stream",
     "text": [
      "Therky is now open!\n"
     ]
    }
   ],
   "source": [
    "my_Restaurant.Open()"
   ]
  },
  {
   "cell_type": "code",
   "execution_count": 5,
   "metadata": {},
   "outputs": [],
   "source": [
    "my_Restaurant= Restaurant('therky','jerky')"
   ]
  },
  {
   "cell_type": "code",
   "execution_count": 6,
   "metadata": {},
   "outputs": [
    {
     "name": "stdout",
     "output_type": "stream",
     "text": [
      "the name of the restuant is Therky!\n",
      "the type of cuisine is Jerky!\n"
     ]
    }
   ],
   "source": [
    "my_Restaurant.describe()"
   ]
  },
  {
   "cell_type": "code",
   "execution_count": 7,
   "metadata": {},
   "outputs": [
    {
     "ename": "NameError",
     "evalue": "name 'your_Restaurant' is not defined",
     "output_type": "error",
     "traceback": [
      "\u001b[1;31m---------------------------------------------------------------------------\u001b[0m",
      "\u001b[1;31mNameError\u001b[0m                                 Traceback (most recent call last)",
      "\u001b[1;32m<ipython-input-7-dfa7035db8c4>\u001b[0m in \u001b[0;36m<module>\u001b[1;34m\u001b[0m\n\u001b[1;32m----> 1\u001b[1;33m \u001b[0myour_Restaurant\u001b[0m\u001b[1;33m.\u001b[0m\u001b[0mdescribe\u001b[0m\u001b[1;33m(\u001b[0m\u001b[1;33m)\u001b[0m\u001b[1;33m\u001b[0m\u001b[1;33m\u001b[0m\u001b[0m\n\u001b[0m",
      "\u001b[1;31mNameError\u001b[0m: name 'your_Restaurant' is not defined"
     ]
    }
   ],
   "source": [
    "your_Restaurant.describe()"
   ]
  },
  {
   "cell_type": "code",
   "execution_count": null,
   "metadata": {},
   "outputs": [],
   "source": [
    "his_Restaurant.describe()"
   ]
  },
  {
   "cell_type": "code",
   "execution_count": null,
   "metadata": {},
   "outputs": [],
   "source": [
    "class user():\n",
    "    def __init__(self, first, job, hobby):\n",
    "        self.first = first\n",
    "        self.job = job\n",
    "        self.hobby = hobby\n",
    "    def des(self):\n",
    "        print('Name is ' + self.first.title()+'!')\n",
    "        print('their job is '+self.job.title()+'!')\n",
    "        print('their favorite hobby is '+self.hobby.title()+'!')\n",
    "        \n",
    "    def greet(self):\n",
    "        print('Hi '+ self.first.title()+'. i see that you work at/as a '\n",
    "              + self.job.title()+'. i see that your favorite hobby is '+ self.hobby.title()+', that is my favorite hobby too!')\n",
    "         "
   ]
  },
  {
   "cell_type": "code",
   "execution_count": null,
   "metadata": {},
   "outputs": [],
   "source": [
    "ME = user('Noah Therkelsen','Mc donalds','video games')"
   ]
  },
  {
   "cell_type": "code",
   "execution_count": null,
   "metadata": {},
   "outputs": [],
   "source": [
    "ME.des()"
   ]
  },
  {
   "cell_type": "code",
   "execution_count": null,
   "metadata": {},
   "outputs": [],
   "source": [
    "ME.greet()"
   ]
  },
  {
   "cell_type": "code",
   "execution_count": null,
   "metadata": {},
   "outputs": [],
   "source": [
    "YOU= user ('p','p','p')"
   ]
  },
  {
   "cell_type": "code",
   "execution_count": null,
   "metadata": {},
   "outputs": [],
   "source": [
    "YOU.des()"
   ]
  },
  {
   "cell_type": "code",
   "execution_count": null,
   "metadata": {},
   "outputs": [],
   "source": [
    "YOU.greet()"
   ]
  },
  {
   "cell_type": "code",
   "execution_count": null,
   "metadata": {},
   "outputs": [],
   "source": [
    "class Restaurant():\n",
    "    def __init__(self, name, ty):\n",
    "        self.name = name\n",
    "        self.ty = ty\n",
    "        self.served = 0\n",
    "        \n",
    "    def describe(self):\n",
    "        print('the name of the restuant is ' + self.name.title() + '!')\n",
    "        print('the type of cuisine is ' + self.ty.title() + '!')\n",
    "        \n",
    "    def Open(self):\n",
    "        print(self.name.title()+\" is now open!\")\n",
    "        \n",
    "    def read(self):\n",
    "        print(\"you have served \" + str(self.served) + \" people today.\")\n",
    "    \n",
    "    def served(self, serves):\n",
    "            self.served = serves\n",
    "    def number(self, people):\n",
    "        self.served += people\n",
    "        \n",
    "my_Restaurant= Restaurant('therky','jerky')\n",
    "print(my_Restaurant.describe())\n",
    "my_Restaurant.served=32\n",
    "my_Restaurant.read()\n",
    "my_Restaurant.number(10)\n",
    "my_Restaurant.read()"
   ]
  },
  {
   "cell_type": "code",
   "execution_count": null,
   "metadata": {},
   "outputs": [],
   "source": [
    "my_Restaurant.read()"
   ]
  },
  {
   "cell_type": "code",
   "execution_count": null,
   "metadata": {},
   "outputs": [],
   "source": [
    "class user():\n",
    "    def __init__(self, first, job, hobby):\n",
    "        self.first = first\n",
    "        self.job = job\n",
    "        self.hobby = hobby\n",
    "        self.login = 0\n",
    "    def des(self):\n",
    "        print('Name is ' + self.first.title()+'!')\n",
    "        print('their job is '+self.job.title()+'!')\n",
    "        print('their favorite hobby is '+self.hobby.title()+'!')\n",
    "        \n",
    "    def greet(self):\n",
    "        print('Hi '+ self.first.title()+'. i see that you work at/as a '\n",
    "              + self.job.title()+'. i see that your favorite hobby is '+ self.hobby.title()+', that is my favorite hobby too!')\n",
    "\n",
    "    def update(self):\n",
    "        print('you have tried to login '+ str(self.login) +' times!')\n",
    "    \n",
    "    def resets(self):\n",
    "        print('you have reseted your trys to 0!')\n",
    "        \n",
    "    def logins(self, tries):\n",
    "            self.login = login\n",
    "        \n",
    "    def insert(self, fails):\n",
    "        self.login += 1\n",
    "    \n",
    "    def reset(self):\n",
    "        self.login = 0\n",
    "        \n",
    "ME = user('Noah','banker','video games')\n",
    "print(ME.des())\n",
    "print(ME.greet())\n",
    "ME.login = 4\n",
    "ME.update()\n",
    "ME.insert(1)\n",
    "ME.update()\n",
    "ME.reset()\n",
    "ME.resets()"
   ]
  },
  {
   "cell_type": "code",
   "execution_count": null,
   "metadata": {},
   "outputs": [],
   "source": [
    "class Restaurant():\n",
    "    def __init__(self, name, ty):\n",
    "        self.name = name\n",
    "        self.ty = ty\n",
    "    \n",
    "    def describe(self):\n",
    "        print('the name of the restuant is ' + self.name.title() + '!')\n",
    "        print('the type of cuisine is ' + self.ty.title() + '!')\n",
    "        \n",
    "    def Open(self):\n",
    "        print(self.name.title()+\" is now open!\")\n",
    "        \n",
    "class ICS(Restaurant):\n",
    "    \n",
    "    def flavors(self):\n",
    "        flavor = ['vanilla','chocolate','Rocky Road']\n",
    "        return flavor\n",
    "        \n",
    "    "
   ]
  },
  {
   "cell_type": "code",
   "execution_count": null,
   "metadata": {},
   "outputs": [],
   "source": [
    "ice_cream= ICS('therky','jerky')"
   ]
  },
  {
   "cell_type": "code",
   "execution_count": null,
   "metadata": {},
   "outputs": [],
   "source": [
    "ice_cream.flavors()"
   ]
  },
  {
   "cell_type": "code",
   "execution_count": 12,
   "metadata": {},
   "outputs": [
    {
     "name": "stdout",
     "output_type": "stream",
     "text": [
      "['ban users', 'can add post', 'can delete post']\n"
     ]
    }
   ],
   "source": [
    "class user():\n",
    "    def __init__(self, first, job, hobby):\n",
    "        self.first = first\n",
    "        self.job = job\n",
    "        self.hobby = hobby\n",
    "    def des(self):\n",
    "        \n",
    "        print('Name is ' + self.first.title()+'!')\n",
    "        print('their job is '+self.job.title()+'!')\n",
    "        print('their favorite hobby is '+self.hobby.title()+'!')\n",
    "        \n",
    "    def greet(self):\n",
    "        print('Hi '+ self.first.title()+'. i see that you work at/as a '\n",
    "              + self.job.title()+'. i see that your favorite hobby is '\n",
    "              + self.hobby.title()+', that is my favorite hobby too!')\n",
    "        \n",
    "class Admin(user):\n",
    "    def __init__(self, first, job, hobby):\n",
    "        super().__init__(first, job, hobby)\n",
    "        self.privileges = Privileges()\n",
    "    \n",
    "class Privileges():\n",
    "    def __init__(self, privileges = ['ban users', 'can add post', 'can delete post']):\n",
    "        self.privileges = privileges\n",
    "        \n",
    "    def show_priv(self):\n",
    "        print(self.privileges)\n",
    "        \n",
    "admin = Admin('Noah', \"Banker\", 'videos')\n",
    "admin.privileges.show_priv()"
   ]
  },
  {
   "cell_type": "code",
   "execution_count": null,
   "metadata": {},
   "outputs": [],
   "source": []
  },
  {
   "cell_type": "code",
   "execution_count": 5,
   "metadata": {},
   "outputs": [
    {
     "name": "stdout",
     "output_type": "stream",
     "text": [
      "the name of the restuant is Therky!\n",
      "the type of cuisine is Jerky!\n",
      "None\n"
     ]
    }
   ],
   "source": [
    "from restaurant import Restaurant \n",
    "   \n",
    "my_Restaurant= Restaurant('therky','jerky')\n",
    "print(my_Restaurant.describe())\n"
   ]
  },
  {
   "cell_type": "code",
   "execution_count": 6,
   "metadata": {},
   "outputs": [],
   "source": [
    "from user import Admin\n",
    "\n"
   ]
  },
  {
   "cell_type": "code",
   "execution_count": 1,
   "metadata": {},
   "outputs": [
    {
     "name": "stdout",
     "output_type": "stream",
     "text": [
      "['ban users', 'can add post', 'can delete post']\n"
     ]
    }
   ],
   "source": [
    "from user import Admin\n",
    "from user import Privileges\n",
    "\n",
    "admin = Admin('Noah', \"Banker\", 'videos')\n"
   ]
  },
  {
   "cell_type": "code",
   "execution_count": 9,
   "metadata": {},
   "outputs": [
    {
     "name": "stdout",
     "output_type": "stream",
     "text": [
      "[4, 6, 3, 1, 2, 4, 4, 4, 4, 4]\n",
      "[5, 2, 4, 2, 4, 5, 2, 3, 4, 1]\n",
      "[6, 1, 5, 3, 6, 1, 1, 6, 1, 2]\n"
     ]
    }
   ],
   "source": [
    "import random\n",
    "\n",
    "class Die():\n",
    "    def __init__(self, sides):\n",
    "        self.sides = sides\n",
    "    def dice_roll(self, roll_amount):\n",
    "        rolls = []\n",
    "        for roll in range(roll_amount):\n",
    "            rolls += [random.randint(1, self.sides)]\n",
    "        print(rolls)\n",
    "\n",
    "dice = Die(6)\n",
    "dice.dice_roll(10)\n",
    "\n",
    "dice_10 = Die(6)\n",
    "dice_10.dice_roll(10)\n",
    "\n",
    "dice_20 = Die(6)\n",
    "dice_20.dice_roll(10)\n"
   ]
  },
  {
   "cell_type": "code",
   "execution_count": null,
   "metadata": {},
   "outputs": [],
   "source": []
  }
 ],
 "metadata": {
  "kernelspec": {
   "display_name": "Python 3",
   "language": "python",
   "name": "python3"
  },
  "language_info": {
   "codemirror_mode": {
    "name": "ipython",
    "version": 3
   },
   "file_extension": ".py",
   "mimetype": "text/x-python",
   "name": "python",
   "nbconvert_exporter": "python",
   "pygments_lexer": "ipython3",
   "version": "3.7.4"
  }
 },
 "nbformat": 4,
 "nbformat_minor": 2
}
